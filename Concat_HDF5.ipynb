{
 "cells": [
  {
   "cell_type": "code",
   "execution_count": 1,
   "metadata": {},
   "outputs": [
    {
     "name": "stderr",
     "output_type": "stream",
     "text": [
      "Using TensorFlow backend.\n"
     ]
    }
   ],
   "source": [
    "import os\n",
    "from keras.utils import HDF5Matrix\n",
    "import numpy as np\n",
    "import h5py\n",
    "import matplotlib.pyplot as plt\n",
    "%matplotlib inline"
   ]
  },
  {
   "cell_type": "code",
   "execution_count": 2,
   "metadata": {},
   "outputs": [],
   "source": [
    "def show(image, now=True, fig_size=(10, 10)):\n",
    "    image = image.astype(np.float32)\n",
    "    m, M = image.min(), image.max()\n",
    "    if fig_size != None:\n",
    "        plt.rcParams['figure.figsize'] = (fig_size[0], fig_size[1])\n",
    "    plt.imshow((image - m) / (M - m), cmap='gray')\n",
    "    plt.axis('off')\n",
    "    if now == True:\n",
    "        plt.show()"
   ]
  },
  {
   "cell_type": "code",
   "execution_count": 3,
   "metadata": {},
   "outputs": [],
   "source": [
    "data_dir = './data/macenko/'"
   ]
  },
  {
   "cell_type": "code",
   "execution_count": 4,
   "metadata": {},
   "outputs": [],
   "source": [
    "sorted_file_list = sorted([{'file_name': os.path.join(data_dir, fn),\n",
    "                             'order': int(fn.split('_')[7]),\n",
    "                             'data': HDF5Matrix(os.path.join(data_dir, fn), 'x')}\n",
    "                            for fn in os.listdir(data_dir) \n",
    "                            if ('camelyonpatch_level_2_split_valid_x_macenko' in fn\n",
    "                                and 'ALL' not in fn)],\n",
    "                          key = lambda i: i['order'])"
   ]
  },
  {
   "cell_type": "code",
   "execution_count": 5,
   "metadata": {},
   "outputs": [
    {
     "data": {
      "text/plain": [
       "['./data/macenko/camelyonpatch_level_2_split_valid_x_macenko_0_10000.h5.gz',\n",
       " './data/macenko/camelyonpatch_level_2_split_valid_x_macenko_10000_20000.h5.gz',\n",
       " './data/macenko/camelyonpatch_level_2_split_valid_x_macenko_20000_30000.h5.gz',\n",
       " './data/macenko/camelyonpatch_level_2_split_valid_x_macenko_30000_32768.h5.gz']"
      ]
     },
     "execution_count": 5,
     "metadata": {},
     "output_type": "execute_result"
    }
   ],
   "source": [
    "[f['file_name'] for f in sorted_file_list]"
   ]
  },
  {
   "cell_type": "code",
   "execution_count": 11,
   "metadata": {},
   "outputs": [
    {
     "data": {
      "text/plain": [
       "[(9990, 1, 1, 1),\n",
       " (9982, 1, 1, 1),\n",
       " (9980, 1, 1, 1),\n",
       " (9981, 1, 1, 1),\n",
       " (9984, 1, 1, 1),\n",
       " (9982, 1, 1, 1),\n",
       " (9986, 1, 1, 1),\n",
       " (9980, 1, 1, 1),\n",
       " (9986, 1, 1, 1),\n",
       " (9985, 1, 1, 1),\n",
       " (9989, 1, 1, 1),\n",
       " (9976, 1, 1, 1),\n",
       " (9984, 1, 1, 1),\n",
       " (9988, 1, 1, 1),\n",
       " (9985, 1, 1, 1),\n",
       " (9981, 1, 1, 1),\n",
       " (9992, 1, 1, 1),\n",
       " (9986, 1, 1, 1),\n",
       " (9977, 1, 1, 1),\n",
       " (9992, 1, 1, 1),\n",
       " (9991, 1, 1, 1),\n",
       " (9988, 1, 1, 1),\n",
       " (9990, 1, 1, 1),\n",
       " (9990, 1, 1, 1),\n",
       " (9984, 1, 1, 1),\n",
       " (9989, 1, 1, 1),\n",
       " (2138, 1, 1, 1)]"
      ]
     },
     "execution_count": 11,
     "metadata": {},
     "output_type": "execute_result"
    }
   ],
   "source": [
    "[s['data'].shape for s in sorted_file_list]"
   ]
  },
  {
   "cell_type": "code",
   "execution_count": 6,
   "metadata": {},
   "outputs": [
    {
     "data": {
      "text/plain": [
       "(4, 32728)"
      ]
     },
     "execution_count": 6,
     "metadata": {},
     "output_type": "execute_result"
    }
   ],
   "source": [
    "len(sorted_file_list), sum([len(h['data']) for h in sorted_file_list])"
   ]
  },
  {
   "cell_type": "code",
   "execution_count": 7,
   "metadata": {},
   "outputs": [],
   "source": [
    "allofit = [d.astype(np.uint8) for finfo in sorted_file_list for d in finfo['data'][:finfo['data'].shape[0]]]"
   ]
  },
  {
   "cell_type": "code",
   "execution_count": 8,
   "metadata": {},
   "outputs": [
    {
     "data": {
      "text/plain": [
       "32728"
      ]
     },
     "execution_count": 8,
     "metadata": {},
     "output_type": "execute_result"
    }
   ],
   "source": [
    "len(allofit)"
   ]
  },
  {
   "cell_type": "code",
   "execution_count": 9,
   "metadata": {},
   "outputs": [
    {
     "data": {
      "text/plain": [
       "numpy.uint8"
      ]
     },
     "execution_count": 9,
     "metadata": {},
     "output_type": "execute_result"
    }
   ],
   "source": [
    "type(allofit[0][0][0][0])"
   ]
  },
  {
   "cell_type": "code",
   "execution_count": 10,
   "metadata": {
    "scrolled": true
   },
   "outputs": [],
   "source": [
    "h5f = h5py.File(os.path.join(data_dir, 'camelyonpatch_level_2_split_valid_x_macenko_ALL.h5.gz'), 'w')\n",
    "h5f.create_dataset('x', data=np.array(allofit), compression='gzip')\n",
    "h5f.close()"
   ]
  },
  {
   "cell_type": "code",
   "execution_count": null,
   "metadata": {},
   "outputs": [],
   "source": []
  }
 ],
 "metadata": {
  "kernelspec": {
   "display_name": "Python 3",
   "language": "python",
   "name": "python3"
  },
  "language_info": {
   "codemirror_mode": {
    "name": "ipython",
    "version": 3
   },
   "file_extension": ".py",
   "mimetype": "text/x-python",
   "name": "python",
   "nbconvert_exporter": "python",
   "pygments_lexer": "ipython3",
   "version": "3.5.2"
  }
 },
 "nbformat": 4,
 "nbformat_minor": 2
}
