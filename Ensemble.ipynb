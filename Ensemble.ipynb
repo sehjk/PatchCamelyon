{
 "cells": [
  {
   "cell_type": "code",
   "execution_count": 1,
   "metadata": {},
   "outputs": [],
   "source": [
    "%load_ext autoreload\n",
    "%autoreload 2"
   ]
  },
  {
   "cell_type": "markdown",
   "metadata": {},
   "source": [
    "TODO: \n",
    "    stain normaliztion\n",
    "    augmantation\n",
    "    "
   ]
  },
  {
   "cell_type": "code",
   "execution_count": 2,
   "metadata": {},
   "outputs": [
    {
     "name": "stderr",
     "output_type": "stream",
     "text": [
      "Using TensorFlow backend.\n"
     ]
    }
   ],
   "source": [
    "import os\n",
    "import numpy as np\n",
    "\n",
    "from keras.callbacks import ReduceLROnPlateau\n",
    "from keras.models import Model, load_model\n",
    "from keras.optimizers import SGD, Adam\n",
    "from keras.layers import Dense, Dropout, GlobalAveragePooling2D, Input, GlobalAveragePooling2D, GlobalMaxPooling2D, Flatten, Concatenate\n",
    "# Conv2D, Input, Flatten, MaxPooling2D, UpSampling2D, concatenate, Cropping2D, Reshape, BatchNormalization\n",
    "\n",
    "from keras.applications.nasnet import NASNetLarge\n",
    "from keras.applications import VGG16, VGG19, InceptionV3, Xception, ResNet50\n",
    "\n",
    "%matplotlib inline"
   ]
  },
  {
   "cell_type": "code",
   "execution_count": 3,
   "metadata": {},
   "outputs": [],
   "source": [
    "from keras.layers import Dense, concatenate\n",
    "from keras.models import Model, load_model"
   ]
  },
  {
   "cell_type": "code",
   "execution_count": 4,
   "metadata": {},
   "outputs": [
    {
     "name": "stderr",
     "output_type": "stream",
     "text": [
      "WARNING: Logging before flag parsing goes to stderr.\n",
      "W0522 20:02:03.179841 139772595912832 deprecation_wrapper.py:119] From /home/aorus/workspaces/simge/PatchCamelyon/utils/comparams.py:1: The name tf.local_variables_initializer is deprecated. Please use tf.compat.v1.local_variables_initializer instead.\n",
      "\n"
     ]
    }
   ],
   "source": [
    "from utils.preprocess import DataGenerator\n",
    "from utils.callbacks import PlotCurves\n",
    "from utils.load_data import load_data\n",
    "from utils.comparams import auc"
   ]
  },
  {
   "cell_type": "code",
   "execution_count": 12,
   "metadata": {},
   "outputs": [],
   "source": [
    "from utils.load_data import load_data\n",
    "from utils.preprocess import DataGenerator\n",
    "from utils.comparams import calculate_auc, auc"
   ]
  },
  {
   "cell_type": "markdown",
   "metadata": {},
   "source": [
    "### Data Generator"
   ]
  },
  {
   "cell_type": "code",
   "execution_count": 6,
   "metadata": {},
   "outputs": [],
   "source": [
    "data_dir = './data/'"
   ]
  },
  {
   "cell_type": "code",
   "execution_count": 7,
   "metadata": {},
   "outputs": [
    {
     "data": {
      "text/plain": [
       "(10000, 10000)"
      ]
     },
     "execution_count": 7,
     "metadata": {},
     "output_type": "execute_result"
    }
   ],
   "source": [
    "x_train, y_train, x_valid, y_valid = load_data(data_dir, purpose='train', limit=10000, val_limit=10000)\n",
    "len(x_train), len(x_valid)"
   ]
  },
  {
   "cell_type": "code",
   "execution_count": 8,
   "metadata": {},
   "outputs": [],
   "source": [
    "# indexes\n",
    "train_id = np.arange(len(x_train))\n",
    "val_id = np.arange(len(x_valid))\n",
    "\n",
    "# create a useful dictionary structures\n",
    "partition = {}\n",
    "partition['train'] = train_id\n",
    "partition['validation'] = val_id\n",
    "    \n",
    "train_labels = {str(i) : y_train[i].flatten()[0] for i in train_id}\n",
    "val_labels = {str(i) : y_valid[i].flatten()[0] for i in val_id}"
   ]
  },
  {
   "cell_type": "code",
   "execution_count": 9,
   "metadata": {},
   "outputs": [],
   "source": [
    "del train_id\n",
    "del val_id\n",
    "del data_dir"
   ]
  },
  {
   "cell_type": "markdown",
   "metadata": {},
   "source": [
    "## MODEL"
   ]
  },
  {
   "cell_type": "code",
   "execution_count": 10,
   "metadata": {
    "scrolled": true
   },
   "outputs": [
    {
     "name": "stderr",
     "output_type": "stream",
     "text": [
      "W0522 20:03:58.402439 139772595912832 deprecation_wrapper.py:119] From /home/aorus/workspaces/simge/PatchCamelyon/.env/lib/python3.6/site-packages/keras/backend/tensorflow_backend.py:517: The name tf.placeholder is deprecated. Please use tf.compat.v1.placeholder instead.\n",
      "\n",
      "W0522 20:03:58.422655 139772595912832 deprecation_wrapper.py:119] From /home/aorus/workspaces/simge/PatchCamelyon/.env/lib/python3.6/site-packages/keras/backend/tensorflow_backend.py:4138: The name tf.random_uniform is deprecated. Please use tf.random.uniform instead.\n",
      "\n",
      "W0522 20:03:58.440139 139772595912832 deprecation_wrapper.py:119] From /home/aorus/workspaces/simge/PatchCamelyon/.env/lib/python3.6/site-packages/keras/backend/tensorflow_backend.py:3976: The name tf.nn.max_pool is deprecated. Please use tf.nn.max_pool2d instead.\n",
      "\n",
      "W0522 20:03:58.632543 139772595912832 deprecation_wrapper.py:119] From /home/aorus/workspaces/simge/PatchCamelyon/.env/lib/python3.6/site-packages/keras/backend/tensorflow_backend.py:174: The name tf.get_default_session is deprecated. Please use tf.compat.v1.get_default_session instead.\n",
      "\n",
      "W0522 20:03:58.633083 139772595912832 deprecation_wrapper.py:119] From /home/aorus/workspaces/simge/PatchCamelyon/.env/lib/python3.6/site-packages/keras/backend/tensorflow_backend.py:181: The name tf.ConfigProto is deprecated. Please use tf.compat.v1.ConfigProto instead.\n",
      "\n",
      "W0522 20:03:59.623327 139772595912832 deprecation_wrapper.py:119] From /home/aorus/workspaces/simge/PatchCamelyon/.env/lib/python3.6/site-packages/keras/optimizers.py:790: The name tf.train.Optimizer is deprecated. Please use tf.compat.v1.train.Optimizer instead.\n",
      "\n",
      "W0522 20:03:59.685603 139772595912832 deprecation.py:323] From /home/aorus/workspaces/simge/PatchCamelyon/.env/lib/python3.6/site-packages/tensorflow/python/ops/math_grad.py:1250: add_dispatch_support.<locals>.wrapper (from tensorflow.python.ops.array_ops) is deprecated and will be removed in a future version.\n",
      "Instructions for updating:\n",
      "Use tf.where in 2.0, which has the same broadcast rule as np.where\n"
     ]
    }
   ],
   "source": [
    "model_vgg16 = load_model('Model/vgg16_model_10k.h5')\n",
    "for i, layer in enumerate(model_vgg16.layers):\n",
    "    model_vgg16.layers[i].trainable = False\n",
    "    model_vgg16.layers[i].name = '{}_{}'.format(layer.name, 'vgg16')\n",
    "vgg16_out = model_vgg16.output"
   ]
  },
  {
   "cell_type": "code",
   "execution_count": 14,
   "metadata": {},
   "outputs": [],
   "source": [
    "dependencies = {\n",
    "    'auc': auc\n",
    "}"
   ]
  },
  {
   "cell_type": "code",
   "execution_count": 16,
   "metadata": {},
   "outputs": [],
   "source": [
    "model_vgg19 = load_model('Model/vgg19_model_10K_lrr_0-001.h5', custom_objects=dependencies)\n",
    "# model = model_from_json(open(network_filepath).read())\n",
    "# model.load_weights(os.path.join(os.path.dirname(network_filepath)))\n",
    "for i, layer in enumerate(model_vgg19.layers):\n",
    "    model_vgg19.layers[i].trainable = False\n",
    "    model_vgg19.layers[i].name = '{}_{}'.format(layer.name, 'vgg19')\n",
    "vgg19_out = model_vgg19.output"
   ]
  },
  {
   "cell_type": "code",
   "execution_count": null,
   "metadata": {},
   "outputs": [],
   "source": []
  },
  {
   "cell_type": "markdown",
   "metadata": {},
   "source": [
    "## NASNET"
   ]
  },
  {
   "cell_type": "code",
   "execution_count": 17,
   "metadata": {},
   "outputs": [
    {
     "name": "stderr",
     "output_type": "stream",
     "text": [
      "W0522 22:24:49.097790 139772595912832 deprecation_wrapper.py:119] From /home/aorus/workspaces/simge/PatchCamelyon/.env/lib/python3.6/site-packages/keras/backend/tensorflow_backend.py:1834: The name tf.nn.fused_batch_norm is deprecated. Please use tf.compat.v1.nn.fused_batch_norm instead.\n",
      "\n",
      "W0522 22:24:49.499449 139772595912832 deprecation_wrapper.py:119] From /home/aorus/workspaces/simge/PatchCamelyon/.env/lib/python3.6/site-packages/keras/backend/tensorflow_backend.py:3980: The name tf.nn.avg_pool is deprecated. Please use tf.nn.avg_pool2d instead.\n",
      "\n"
     ]
    }
   ],
   "source": [
    "nasnet = NASNetLarge(weights='imagenet', include_top=False)"
   ]
  },
  {
   "cell_type": "code",
   "execution_count": 19,
   "metadata": {},
   "outputs": [
    {
     "name": "stderr",
     "output_type": "stream",
     "text": [
      "W0522 22:25:43.577364 139772595912832 deprecation.py:506] From /home/aorus/workspaces/simge/PatchCamelyon/.env/lib/python3.6/site-packages/keras/backend/tensorflow_backend.py:3445: calling dropout (from tensorflow.python.ops.nn_ops) with keep_prob is deprecated and will be removed in a future version.\n",
      "Instructions for updating:\n",
      "Please use `rate` instead of `keep_prob`. Rate should be set to `rate = 1 - keep_prob`.\n"
     ]
    }
   ],
   "source": [
    "inputs = Input((224, 224, 3))\n",
    "x = nasnet(inputs)\n",
    "x = GlobalAveragePooling2D()(x)\n",
    "x = Dense(128, activation='relu')(x)\n",
    "x = Dropout(0.2)(x)\n",
    "y = Dense(2, activation='softmax')(x) # sigmoid instead of softmax to have independent probabilities"
   ]
  },
  {
   "cell_type": "code",
   "execution_count": 20,
   "metadata": {},
   "outputs": [],
   "source": [
    "for layer in nasnet.layers:\n",
    "    layer.trainable = False\n",
    "nasnet_model = Model(inputs=inputs, outputs=y)\n",
    "\n"
   ]
  },
  {
   "cell_type": "code",
   "execution_count": null,
   "metadata": {},
   "outputs": [],
   "source": []
  },
  {
   "cell_type": "code",
   "execution_count": 22,
   "metadata": {},
   "outputs": [],
   "source": [
    "nasnet_model.load_weights('Model/weights/nasnet_modelbest_acc_model.h5')"
   ]
  },
  {
   "cell_type": "code",
   "execution_count": 26,
   "metadata": {},
   "outputs": [],
   "source": [
    "for i, layer in enumerate(nasnet_model.layers):\n",
    "    nasnet_model.layers[i].trainable = False\n",
    "    nasnet_model.layers[i].name = '{}_{}'.format(layer.name, 'nasnet')\n",
    "nasnet_out = nasnet_model.output"
   ]
  },
  {
   "cell_type": "markdown",
   "metadata": {},
   "source": [
    "# Concat"
   ]
  },
  {
   "cell_type": "code",
   "execution_count": 27,
   "metadata": {},
   "outputs": [],
   "source": [
    "merge_0 = concatenate([vgg16_out, vgg19_out, nasnet_out])\n",
    "output = Dense(2, activation='sigmoid', name='main_output')(merge_0)\n",
    "model = Model(inputs=[model_vgg16.input, model_vgg19.input, nasnet_model.input], outputs=output)"
   ]
  },
  {
   "cell_type": "code",
   "execution_count": 28,
   "metadata": {},
   "outputs": [
    {
     "name": "stdout",
     "output_type": "stream",
     "text": [
      "__________________________________________________________________________________________________\n",
      "Layer (type)                    Output Shape         Param #     Connected to                     \n",
      "==================================================================================================\n",
      "input_1_vgg19 (InputLayer)      (None, 224, 224, 3)  0                                            \n",
      "__________________________________________________________________________________________________\n",
      "block1_conv1_vgg19 (Conv2D)     (None, 224, 224, 64) 1792        input_1_vgg19[0][0]              \n",
      "__________________________________________________________________________________________________\n",
      "block1_conv2_vgg19 (Conv2D)     (None, 224, 224, 64) 36928       block1_conv1_vgg19[0][0]         \n",
      "__________________________________________________________________________________________________\n",
      "input_1_vgg16 (InputLayer)      (None, 224, 224, 3)  0                                            \n",
      "__________________________________________________________________________________________________\n",
      "block1_pool_vgg19 (MaxPooling2D (None, 112, 112, 64) 0           block1_conv2_vgg19[0][0]         \n",
      "__________________________________________________________________________________________________\n",
      "block1_conv1_vgg16 (Conv2D)     (None, 224, 224, 64) 1792        input_1_vgg16[0][0]              \n",
      "__________________________________________________________________________________________________\n",
      "block2_conv1_vgg19 (Conv2D)     (None, 112, 112, 128 73856       block1_pool_vgg19[0][0]          \n",
      "__________________________________________________________________________________________________\n",
      "block1_conv2_vgg16 (Conv2D)     (None, 224, 224, 64) 36928       block1_conv1_vgg16[0][0]         \n",
      "__________________________________________________________________________________________________\n",
      "block2_conv2_vgg19 (Conv2D)     (None, 112, 112, 128 147584      block2_conv1_vgg19[0][0]         \n",
      "__________________________________________________________________________________________________\n",
      "block1_pool_vgg16 (MaxPooling2D (None, 112, 112, 64) 0           block1_conv2_vgg16[0][0]         \n",
      "__________________________________________________________________________________________________\n",
      "block2_pool_vgg19 (MaxPooling2D (None, 56, 56, 128)  0           block2_conv2_vgg19[0][0]         \n",
      "__________________________________________________________________________________________________\n",
      "block2_conv1_vgg16 (Conv2D)     (None, 112, 112, 128 73856       block1_pool_vgg16[0][0]          \n",
      "__________________________________________________________________________________________________\n",
      "block3_conv1_vgg19 (Conv2D)     (None, 56, 56, 256)  295168      block2_pool_vgg19[0][0]          \n",
      "__________________________________________________________________________________________________\n",
      "block2_conv2_vgg16 (Conv2D)     (None, 112, 112, 128 147584      block2_conv1_vgg16[0][0]         \n",
      "__________________________________________________________________________________________________\n",
      "block3_conv2_vgg19 (Conv2D)     (None, 56, 56, 256)  590080      block3_conv1_vgg19[0][0]         \n",
      "__________________________________________________________________________________________________\n",
      "block2_pool_vgg16 (MaxPooling2D (None, 56, 56, 128)  0           block2_conv2_vgg16[0][0]         \n",
      "__________________________________________________________________________________________________\n",
      "block3_conv3_vgg19 (Conv2D)     (None, 56, 56, 256)  590080      block3_conv2_vgg19[0][0]         \n",
      "__________________________________________________________________________________________________\n",
      "block3_conv1_vgg16 (Conv2D)     (None, 56, 56, 256)  295168      block2_pool_vgg16[0][0]          \n",
      "__________________________________________________________________________________________________\n",
      "block3_conv4_vgg19 (Conv2D)     (None, 56, 56, 256)  590080      block3_conv3_vgg19[0][0]         \n",
      "__________________________________________________________________________________________________\n",
      "block3_conv2_vgg16 (Conv2D)     (None, 56, 56, 256)  590080      block3_conv1_vgg16[0][0]         \n",
      "__________________________________________________________________________________________________\n",
      "block3_pool_vgg19 (MaxPooling2D (None, 28, 28, 256)  0           block3_conv4_vgg19[0][0]         \n",
      "__________________________________________________________________________________________________\n",
      "block3_conv3_vgg16 (Conv2D)     (None, 56, 56, 256)  590080      block3_conv2_vgg16[0][0]         \n",
      "__________________________________________________________________________________________________\n",
      "block4_conv1_vgg19 (Conv2D)     (None, 28, 28, 512)  1180160     block3_pool_vgg19[0][0]          \n",
      "__________________________________________________________________________________________________\n",
      "block3_pool_vgg16 (MaxPooling2D (None, 28, 28, 256)  0           block3_conv3_vgg16[0][0]         \n",
      "__________________________________________________________________________________________________\n",
      "block4_conv2_vgg19 (Conv2D)     (None, 28, 28, 512)  2359808     block4_conv1_vgg19[0][0]         \n",
      "__________________________________________________________________________________________________\n",
      "block4_conv1_vgg16 (Conv2D)     (None, 28, 28, 512)  1180160     block3_pool_vgg16[0][0]          \n",
      "__________________________________________________________________________________________________\n",
      "block4_conv3_vgg19 (Conv2D)     (None, 28, 28, 512)  2359808     block4_conv2_vgg19[0][0]         \n",
      "__________________________________________________________________________________________________\n",
      "block4_conv2_vgg16 (Conv2D)     (None, 28, 28, 512)  2359808     block4_conv1_vgg16[0][0]         \n",
      "__________________________________________________________________________________________________\n",
      "block4_conv4_vgg19 (Conv2D)     (None, 28, 28, 512)  2359808     block4_conv3_vgg19[0][0]         \n",
      "__________________________________________________________________________________________________\n",
      "block4_conv3_vgg16 (Conv2D)     (None, 28, 28, 512)  2359808     block4_conv2_vgg16[0][0]         \n",
      "__________________________________________________________________________________________________\n",
      "block4_pool_vgg19 (MaxPooling2D (None, 14, 14, 512)  0           block4_conv4_vgg19[0][0]         \n",
      "__________________________________________________________________________________________________\n",
      "block4_pool_vgg16 (MaxPooling2D (None, 14, 14, 512)  0           block4_conv3_vgg16[0][0]         \n",
      "__________________________________________________________________________________________________\n",
      "block5_conv1_vgg19 (Conv2D)     (None, 14, 14, 512)  2359808     block4_pool_vgg19[0][0]          \n",
      "__________________________________________________________________________________________________\n",
      "block5_conv1_vgg16 (Conv2D)     (None, 14, 14, 512)  2359808     block4_pool_vgg16[0][0]          \n",
      "__________________________________________________________________________________________________\n",
      "block5_conv2_vgg19 (Conv2D)     (None, 14, 14, 512)  2359808     block5_conv1_vgg19[0][0]         \n",
      "__________________________________________________________________________________________________\n",
      "block5_conv2_vgg16 (Conv2D)     (None, 14, 14, 512)  2359808     block5_conv1_vgg16[0][0]         \n",
      "__________________________________________________________________________________________________\n",
      "block5_conv3_vgg19 (Conv2D)     (None, 14, 14, 512)  2359808     block5_conv2_vgg19[0][0]         \n",
      "__________________________________________________________________________________________________\n",
      "input_3_vgg19_nasnet (InputLaye (None, 224, 224, 3)  0                                            \n",
      "__________________________________________________________________________________________________\n",
      "block5_conv3_vgg16 (Conv2D)     (None, 14, 14, 512)  2359808     block5_conv2_vgg16[0][0]         \n",
      "__________________________________________________________________________________________________\n",
      "block5_conv4_vgg19 (Conv2D)     (None, 14, 14, 512)  2359808     block5_conv3_vgg19[0][0]         \n",
      "__________________________________________________________________________________________________\n",
      "NASNet_vgg19_nasnet (Model)     multiple             84916818    input_3_vgg19_nasnet[0][0]       \n",
      "__________________________________________________________________________________________________\n",
      "block5_pool_vgg16 (MaxPooling2D (None, 7, 7, 512)    0           block5_conv3_vgg16[0][0]         \n",
      "__________________________________________________________________________________________________\n",
      "block5_pool_vgg19 (MaxPooling2D (None, 7, 7, 512)    0           block5_conv4_vgg19[0][0]         \n",
      "__________________________________________________________________________________________________\n",
      "global_average_pooling2d_1_vgg1 (None, 4032)         0           NASNet_vgg19_nasnet[1][0]        \n",
      "__________________________________________________________________________________________________\n",
      "global_average_pooling2d_1_vgg1 (None, 512)          0           block5_pool_vgg16[0][0]          \n",
      "__________________________________________________________________________________________________\n",
      "global_average_pooling2d_1_vgg1 (None, 512)          0           block5_pool_vgg19[0][0]          \n",
      "__________________________________________________________________________________________________\n",
      "dense_1_vgg19_nasnet (Dense)    (None, 128)          516224      global_average_pooling2d_1_vgg19_\n",
      "__________________________________________________________________________________________________\n",
      "dense_1_vgg16 (Dense)           (None, 256)          131328      global_average_pooling2d_1_vgg16[\n",
      "__________________________________________________________________________________________________\n",
      "dense_1_vgg19 (Dense)           (None, 256)          131328      global_average_pooling2d_1_vgg19[\n",
      "__________________________________________________________________________________________________\n",
      "dropout_1_vgg19_nasnet (Dropout (None, 128)          0           dense_1_vgg19_nasnet[0][0]       \n",
      "__________________________________________________________________________________________________\n",
      "dense_2_vgg16 (Dense)           (None, 2)            514         dense_1_vgg16[0][0]              \n",
      "__________________________________________________________________________________________________\n",
      "dense_2_vgg19 (Dense)           (None, 2)            514         dense_1_vgg19[0][0]              \n",
      "__________________________________________________________________________________________________\n",
      "dense_2_vgg19_nasnet (Dense)    (None, 2)            258         dropout_1_vgg19_nasnet[0][0]     \n",
      "__________________________________________________________________________________________________\n",
      "concatenate_6 (Concatenate)     (None, 6)            0           dense_2_vgg16[0][0]              \n",
      "                                                                 dense_2_vgg19[0][0]              \n",
      "                                                                 dense_2_vgg19_nasnet[0][0]       \n",
      "__________________________________________________________________________________________________\n",
      "main_output (Dense)             (None, 2)            14          concatenate_6[0][0]              \n",
      "==================================================================================================\n",
      "Total params: 120,436,070\n",
      "Trainable params: 14\n",
      "Non-trainable params: 120,436,056\n",
      "__________________________________________________________________________________________________\n"
     ]
    }
   ],
   "source": [
    "model.summary()"
   ]
  },
  {
   "cell_type": "code",
   "execution_count": null,
   "metadata": {},
   "outputs": [],
   "source": []
  },
  {
   "cell_type": "code",
   "execution_count": null,
   "metadata": {},
   "outputs": [],
   "source": []
  },
  {
   "cell_type": "markdown",
   "metadata": {},
   "source": [
    "### Data Generator"
   ]
  },
  {
   "cell_type": "code",
   "execution_count": 64,
   "metadata": {},
   "outputs": [],
   "source": [
    "data_dir = './data/'"
   ]
  },
  {
   "cell_type": "code",
   "execution_count": 65,
   "metadata": {},
   "outputs": [
    {
     "data": {
      "text/plain": [
       "(10000, 10000)"
      ]
     },
     "execution_count": 65,
     "metadata": {},
     "output_type": "execute_result"
    }
   ],
   "source": [
    "x_train, y_train, x_valid, y_valid = load_data(data_dir, purpose='train', limit=10000, val_limit=10000)\n",
    "len(x_train), len(x_valid)"
   ]
  },
  {
   "cell_type": "code",
   "execution_count": 66,
   "metadata": {},
   "outputs": [],
   "source": [
    "# indexes\n",
    "train_id = np.arange(len(x_train))\n",
    "val_id = np.arange(len(x_valid))\n",
    "\n",
    "# create a useful dictionary structures\n",
    "partition = {}\n",
    "partition['train'] = train_id\n",
    "partition['validation'] = val_id\n",
    "    \n",
    "train_labels = {str(i) : y_train[i].flatten()[0] for i in train_id}\n",
    "val_labels = {str(i) : y_valid[i].flatten()[0] for i in val_id}"
   ]
  },
  {
   "cell_type": "code",
   "execution_count": 67,
   "metadata": {},
   "outputs": [],
   "source": [
    "del train_id\n",
    "del val_id\n",
    "del data_dir"
   ]
  },
  {
   "cell_type": "code",
   "execution_count": null,
   "metadata": {},
   "outputs": [],
   "source": []
  },
  {
   "cell_type": "code",
   "execution_count": 68,
   "metadata": {},
   "outputs": [],
   "source": [
    "learning_rate_reduction = ReduceLROnPlateau(monitor='val_acc', \n",
    "                                            patience=2,\n",
    "                                            verbose=1, \n",
    "                                            factor=0.5, \n",
    "                                            min_lr=0.00001)"
   ]
  },
  {
   "cell_type": "code",
   "execution_count": 69,
   "metadata": {},
   "outputs": [],
   "source": [
    "optimizer = Adam(lr=0.001)#, beta_1=0.9, beta_2=0.999)\n",
    "# 0.002 0.02 2e-5 0.001\n",
    "# optimizer=Adam(lr=0.0002, decay=0.00001),\n",
    "#               loss='binary_crossentropy',\n",
    "#               metrics=['accuracy']\n",
    "loss = 'binary_crossentropy'\n",
    "metrics = ['acc', auc]"
   ]
  },
  {
   "cell_type": "code",
   "execution_count": 70,
   "metadata": {},
   "outputs": [],
   "source": [
    "model.compile(optimizer, loss, metrics)"
   ]
  },
  {
   "cell_type": "markdown",
   "metadata": {},
   "source": [
    "## Train the model"
   ]
  },
  {
   "cell_type": "code",
   "execution_count": 71,
   "metadata": {},
   "outputs": [],
   "source": [
    "# directory to save the best model\n",
    "file_dir = './Model'\n",
    "if not os.path.exists(file_dir):\n",
    "    os.mkdir(file_dir)\n",
    "    \n",
    "model_name = 'ensemble_model'\n",
    "    \n",
    "network_filepath = os.path.join(file_dir, model_name + '.h5')"
   ]
  },
  {
   "cell_type": "code",
   "execution_count": 81,
   "metadata": {},
   "outputs": [],
   "source": [
    "\n",
    "def multiple_batch_generator(generator_num, **kwargs):\n",
    "    \"\"\"A generator to work with multiple inputs models\n",
    "    \n",
    "    We create a model with a list of multiple input layers when \n",
    "    we use :func:`keras.layers.concatenate`. However,\n",
    "    :class:`batch_generator.BatchGenerator` returns a single tuple \n",
    "    with two arrays, which does not fit to a model with a multiple \n",
    "    input layers. Thus, with this generator, we create the necessary \n",
    "    input for such models.\n",
    "    \n",
    "    Arguments:\n",
    "        generator_num {int} -- number of generators should be created\n",
    "        \\**kwargs -- See :class:`batch_generator.BatchGenerator`\n",
    "        \n",
    "    Yields:\n",
    "        ([ndarray,...,ndarray], ndarray) -- in the tuple; list contains feature arrays from each generator, array out of the list contains the label set\n",
    "    \"\"\"\n",
    "    #generators_list = [BatchGenerator(**kwargs, shuffle=False) for i in range(generator_num)]\n",
    "    gen = DataGenerator(**kwargs, shuffle=False)\n",
    "    \n",
    "    i = 0\n",
    "    while i < gen.__len__():\n",
    "        nx = gen.__getitem__(i)\n",
    "        Xy_list = [nx]*generator_num\n",
    "        i += 1\n",
    "        yield [Xy[0] for Xy in Xy_list], Xy_list[0][1]"
   ]
  },
  {
   "cell_type": "markdown",
   "metadata": {},
   "source": [
    " list_IDs, data, labels, batch_size=32, dim=(224, 224), n_channels=3"
   ]
  },
  {
   "cell_type": "raw",
   "metadata": {},
   "source": [
    "training_generator = DataGenerator(partition['train'], x_train, train_labels, **params)"
   ]
  },
  {
   "cell_type": "code",
   "execution_count": 82,
   "metadata": {},
   "outputs": [],
   "source": [
    "# Define batch size.\n",
    "batch_size = 128\n",
    "n_epoch = 10\n",
    "# time_limit = 500 # time limit in minute (500 -> 8 hrs and 20 min)\n",
    "\n",
    "# Parameters for generators\n",
    "params = {\n",
    "    'dim': (224, 224),\n",
    "    'batch_size': batch_size,\n",
    "    'n_classes': 2,\n",
    "#     'shuffle': True\n",
    "}\n",
    "\n",
    "# Generators\n",
    "training_generator = multiple_batch_generator(generator_num=3, list_IDs=partition['train'], data=x_train, labels=train_labels, **params)\n",
    "validation_generator = multiple_batch_generator(generator_num=3, list_IDs=partition['validation'], data=x_valid, labels=val_labels, **params)\n",
    "\n",
    "# #a function to save last_model compatible with the on_interrupt handler of TimerCallback\n",
    "# def saveWeights(model, elapsed):\n",
    "#     model.save_weights(os.path.join(file_dir, model_name + '_weights.h5'))\n",
    "\n",
    "\n",
    "# Callbacks,\n",
    "callbacks = [PlotCurves(model_name=model_name), learning_rate_reduction]#, TimerCallback(1, on_interrupt=saveWeights)]\n",
    "#roc_callback(training_data=training_generator,validation_data=validation_generator)"
   ]
  },
  {
   "cell_type": "code",
   "execution_count": 83,
   "metadata": {},
   "outputs": [],
   "source": [
    "val_steps= int(len(y_valid)/batch_size)"
   ]
  },
  {
   "cell_type": "code",
   "execution_count": 84,
   "metadata": {
    "scrolled": true
   },
   "outputs": [
    {
     "data": {
      "text/plain": [
       "<Figure size 720x360 with 0 Axes>"
      ]
     },
     "metadata": {},
     "output_type": "display_data"
    },
    {
     "data": {
      "image/png": "[encoded data removed]",
      "text/plain": [
       "<Figure size 720x360 with 1 Axes>"
      ]
     },
     "metadata": {
      "needs_background": "light"
     },
     "output_type": "display_data"
    },
    {
     "name": "stdout",
     "output_type": "stream",
     "text": [
      "Epoch 2/10\n"
     ]
    },
    {
     "ename": "StopIteration",
     "evalue": "",
     "output_type": "error",
     "traceback": [
      "\u001b[0;31m---------------------------------------------------------------------------\u001b[0m",
      "\u001b[0;31mStopIteration\u001b[0m                             Traceback (most recent call last)",
      "\u001b[0;32m<ipython-input-84-07994fe0c75b>\u001b[0m in \u001b[0;36m<module>\u001b[0;34m\u001b[0m\n\u001b[1;32m      1\u001b[0m \u001b[0;31m# Training with learning\u001b[0m\u001b[0;34m\u001b[0m\u001b[0;34m\u001b[0m\u001b[0;34m\u001b[0m\u001b[0m\n\u001b[1;32m      2\u001b[0m model.fit_generator(training_generator, validation_data=validation_generator, \n\u001b[0;32m----> 3\u001b[0;31m                     epochs=n_epoch, callbacks=callbacks, steps_per_epoch=steps, validation_steps= val_steps)\n\u001b[0m",
      "\u001b[0;32m~/workspaces/simge/PatchCamelyon/.env/lib/python3.6/site-packages/keras/legacy/interfaces.py\u001b[0m in \u001b[0;36mwrapper\u001b[0;34m(*args, **kwargs)\u001b[0m\n\u001b[1;32m     89\u001b[0m                 warnings.warn('Update your `' + object_name + '` call to the ' +\n\u001b[1;32m     90\u001b[0m                               'Keras 2 API: ' + signature, stacklevel=2)\n\u001b[0;32m---> 91\u001b[0;31m             \u001b[0;32mreturn\u001b[0m \u001b[0mfunc\u001b[0m\u001b[0;34m(\u001b[0m\u001b[0;34m*\u001b[0m\u001b[0margs\u001b[0m\u001b[0;34m,\u001b[0m \u001b[0;34m**\u001b[0m\u001b[0mkwargs\u001b[0m\u001b[0;34m)\u001b[0m\u001b[0;34m\u001b[0m\u001b[0;34m\u001b[0m\u001b[0m\n\u001b[0m\u001b[1;32m     92\u001b[0m         \u001b[0mwrapper\u001b[0m\u001b[0;34m.\u001b[0m\u001b[0m_original_function\u001b[0m \u001b[0;34m=\u001b[0m \u001b[0mfunc\u001b[0m\u001b[0;34m\u001b[0m\u001b[0;34m\u001b[0m\u001b[0m\n\u001b[1;32m     93\u001b[0m         \u001b[0;32mreturn\u001b[0m \u001b[0mwrapper\u001b[0m\u001b[0;34m\u001b[0m\u001b[0;34m\u001b[0m\u001b[0m\n",
      "\u001b[0;32m~/workspaces/simge/PatchCamelyon/.env/lib/python3.6/site-packages/keras/engine/training.py\u001b[0m in \u001b[0;36mfit_generator\u001b[0;34m(self, generator, steps_per_epoch, epochs, verbose, callbacks, validation_data, validation_steps, class_weight, max_queue_size, workers, use_multiprocessing, shuffle, initial_epoch)\u001b[0m\n\u001b[1;32m   1416\u001b[0m             \u001b[0muse_multiprocessing\u001b[0m\u001b[0;34m=\u001b[0m\u001b[0muse_multiprocessing\u001b[0m\u001b[0;34m,\u001b[0m\u001b[0;34m\u001b[0m\u001b[0;34m\u001b[0m\u001b[0m\n\u001b[1;32m   1417\u001b[0m             \u001b[0mshuffle\u001b[0m\u001b[0;34m=\u001b[0m\u001b[0mshuffle\u001b[0m\u001b[0;34m,\u001b[0m\u001b[0;34m\u001b[0m\u001b[0;34m\u001b[0m\u001b[0m\n\u001b[0;32m-> 1418\u001b[0;31m             initial_epoch=initial_epoch)\n\u001b[0m\u001b[1;32m   1419\u001b[0m \u001b[0;34m\u001b[0m\u001b[0m\n\u001b[1;32m   1420\u001b[0m     \u001b[0;34m@\u001b[0m\u001b[0minterfaces\u001b[0m\u001b[0;34m.\u001b[0m\u001b[0mlegacy_generator_methods_support\u001b[0m\u001b[0;34m\u001b[0m\u001b[0;34m\u001b[0m\u001b[0m\n",
      "\u001b[0;32m~/workspaces/simge/PatchCamelyon/.env/lib/python3.6/site-packages/keras/engine/training_generator.py\u001b[0m in \u001b[0;36mfit_generator\u001b[0;34m(model, generator, steps_per_epoch, epochs, verbose, callbacks, validation_data, validation_steps, class_weight, max_queue_size, workers, use_multiprocessing, shuffle, initial_epoch)\u001b[0m\n\u001b[1;32m    179\u001b[0m             \u001b[0mbatch_index\u001b[0m \u001b[0;34m=\u001b[0m \u001b[0;36m0\u001b[0m\u001b[0;34m\u001b[0m\u001b[0;34m\u001b[0m\u001b[0m\n\u001b[1;32m    180\u001b[0m             \u001b[0;32mwhile\u001b[0m \u001b[0msteps_done\u001b[0m \u001b[0;34m<\u001b[0m \u001b[0msteps_per_epoch\u001b[0m\u001b[0;34m:\u001b[0m\u001b[0;34m\u001b[0m\u001b[0;34m\u001b[0m\u001b[0m\n\u001b[0;32m--> 181\u001b[0;31m                 \u001b[0mgenerator_output\u001b[0m \u001b[0;34m=\u001b[0m \u001b[0mnext\u001b[0m\u001b[0;34m(\u001b[0m\u001b[0moutput_generator\u001b[0m\u001b[0;34m)\u001b[0m\u001b[0;34m\u001b[0m\u001b[0;34m\u001b[0m\u001b[0m\n\u001b[0m\u001b[1;32m    182\u001b[0m \u001b[0;34m\u001b[0m\u001b[0m\n\u001b[1;32m    183\u001b[0m                 \u001b[0;32mif\u001b[0m \u001b[0;32mnot\u001b[0m \u001b[0mhasattr\u001b[0m\u001b[0;34m(\u001b[0m\u001b[0mgenerator_output\u001b[0m\u001b[0;34m,\u001b[0m \u001b[0;34m'__len__'\u001b[0m\u001b[0;34m)\u001b[0m\u001b[0;34m:\u001b[0m\u001b[0;34m\u001b[0m\u001b[0;34m\u001b[0m\u001b[0m\n",
      "\u001b[0;31mStopIteration\u001b[0m: "
     ]
    }
   ],
   "source": [
    "# Training with learning \n",
    "model.fit_generator(training_generator, validation_data=validation_generator, \n",
    "                    epochs=n_epoch, callbacks=callbacks, steps_per_epoch=steps, validation_steps= val_steps)"
   ]
  },
  {
   "cell_type": "code",
   "execution_count": null,
   "metadata": {},
   "outputs": [],
   "source": []
  },
  {
   "cell_type": "code",
   "execution_count": null,
   "metadata": {},
   "outputs": [],
   "source": []
  },
  {
   "cell_type": "markdown",
   "metadata": {},
   "source": [
    "# Calculate AUC"
   ]
  },
  {
   "cell_type": "code",
   "execution_count": 20,
   "metadata": {},
   "outputs": [
    {
     "data": {
      "text/plain": [
       "32768"
      ]
     },
     "execution_count": 20,
     "metadata": {},
     "output_type": "execute_result"
    }
   ],
   "source": [
    "data_dir = './data'\n",
    "# data_dir = './data'\n",
    "\n",
    "x_test, y_test_true = load_data(data_dir, purpose='test')#, norm='macenko')\n",
    "\n",
    "# indexes\n",
    "test_id = np.arange(len(x_test))\n",
    "\n",
    "# create a useful dictionary structures\n",
    "partition = {}\n",
    "partition['test'] = test_id\n",
    "    \n",
    "test_labels = {str(i) : y_test_true[i].flatten()[0] for i in test_id}\n",
    "\n",
    "len(test_labels)"
   ]
  },
  {
   "cell_type": "code",
   "execution_count": 21,
   "metadata": {},
   "outputs": [],
   "source": [
    "# Define batch size.\n",
    "batch_size = 128\n",
    "\n",
    "# Parameters for generators\n",
    "params = {\n",
    "    'dim': (224, 224),\n",
    "    'batch_size': batch_size,\n",
    "    'n_classes': 2,\n",
    "    'shuffle': False\n",
    "}\n",
    "\n",
    "# Generators\n",
    "test_generator = DataGenerator(partition['test'], x_test, test_labels, **params)\n",
    "\n",
    "preds = model.predict_generator(test_generator)"
   ]
  },
  {
   "cell_type": "code",
   "execution_count": 22,
   "metadata": {},
   "outputs": [
    {
     "name": "stdout",
     "output_type": "stream",
     "text": [
      "sklearn auc: 0.87086285901174\n",
      "tf auc: [0.8704897, 0.8704897]\n"
     ]
    }
   ],
   "source": [
    "true_labels = np.array(y_test_true).flatten()\n",
    "\n",
    "pred_labels = np.array([p[1] for p in preds])\n",
    "\n",
    "calculate_auc(true_labels, pred_labels)"
   ]
  },
  {
   "cell_type": "code",
   "execution_count": null,
   "metadata": {},
   "outputs": [],
   "source": []
  }
 ],
 "metadata": {
  "kernelspec": {
   "display_name": "Python 3",
   "language": "python",
   "name": "python3"
  },
  "language_info": {
   "codemirror_mode": {
    "name": "ipython",
    "version": 3
   },
   "file_extension": ".py",
   "mimetype": "text/x-python",
   "name": "python",
   "nbconvert_exporter": "python",
   "pygments_lexer": "ipython3",
   "version": "3.6.8"
  }
 },
 "nbformat": 4,
 "nbformat_minor": 2
}
