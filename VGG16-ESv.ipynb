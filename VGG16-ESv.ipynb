{
 "cells": [
  {
   "cell_type": "markdown",
   "metadata": {},
   "source": [
    "TODO: \n",
    "    stain normaliztion\n",
    "    augmantation\n",
    "    "
   ]
  },
  {
   "cell_type": "code",
   "execution_count": 1,
   "metadata": {},
   "outputs": [],
   "source": [
    "%load_ext autoreload\n",
    "%autoreload 2"
   ]
  },
  {
   "cell_type": "code",
   "execution_count": 2,
   "metadata": {},
   "outputs": [
    {
     "name": "stderr",
     "output_type": "stream",
     "text": [
      "Using TensorFlow backend.\n"
     ]
    }
   ],
   "source": [
    "import os\n",
    "import numpy as np\n",
    "\n",
    "from keras.callbacks import ReduceLROnPlateau\n",
    "from keras.models import Model, load_model\n",
    "from keras.optimizers import SGD, Adam\n",
    "from keras.layers import Dense, Dropout, GlobalAveragePooling2D \n",
    "# Conv2D, Input, Flatten, MaxPooling2D, UpSampling2D, concatenate, Cropping2D, Reshape, BatchNormalization\n",
    "\n",
    "from keras.applications.vgg19 import VGG19\n",
    "import matplotlib.pyplot as plt\n",
    "%matplotlib inline"
   ]
  },
  {
   "cell_type": "code",
   "execution_count": 3,
   "metadata": {},
   "outputs": [],
   "source": [
    "from keras.utils import HDF5Matrix"
   ]
  },
  {
   "cell_type": "code",
   "execution_count": 4,
   "metadata": {},
   "outputs": [],
   "source": [
    "import os\n",
    "import gzip\n",
    "from keras.utils import HDF5Matrix\n",
    "\n",
    "def load_data(data_dir, purpose='train', limit=None, val_limit=None, norm=None):\n",
    "\n",
    "    norm = '_' + norm if norm else ''\n",
    "    \n",
    "    if purpose == 'train':\n",
    "        \n",
    "        pc_train_x_h5 = os.path.join(data_dir, 'camelyonpatch_level_2_split_train_x' + norm + '.h5.gz') \n",
    "        pc_train_y_h5 = os.path.join(data_dir, 'camelyonpatch_level_2_split_train_y' + norm + '.h5.gz') \n",
    "        pc_valid_y_h5 = os.path.join(data_dir, 'camelyonpatch_level_2_split_valid_y' + norm + '.h5.gz')\n",
    "        pc_valid_x_h5 = os.path.join(data_dir, 'camelyonpatch_level_2_split_valid_x' + norm + '.h5.gz') \n",
    "        \n",
    "        if not norm:\n",
    "            pc_train_x_h5 = gzip.open(pc_train_x_h5, 'rb')\n",
    "            pc_train_y_h5 = gzip.open(pc_train_y_h5, 'rb')\n",
    "            pc_valid_y_h5 = gzip.open(pc_valid_y_h5, 'rb')\n",
    "            pc_valid_x_h5 = gzip.open(pc_valid_x_h5, 'rb')\n",
    "        \n",
    "        x_train = HDF5Matrix(pc_train_x_h5, 'x')\n",
    "        y_train = HDF5Matrix(pc_train_y_h5, 'y')\n",
    "        x_valid = HDF5Matrix(pc_valid_x_h5, 'x')\n",
    "        y_valid = HDF5Matrix(pc_valid_y_h5, 'y')\n",
    "        \n",
    "        if not val_limit and limit:\n",
    "            val_limit = limit\n",
    "        \n",
    "        if limit and limit<len(x_train):\n",
    "            x_train = x_train[:limit]\n",
    "            y_train = y_train[:limit]\n",
    "        \n",
    "        if val_limit and val_limit<len(x_valid):\n",
    "            x_valid = x_valid[:val_limit]\n",
    "            y_valid = y_valid[:val_limit]\n",
    "\n",
    "        return x_train, y_train, x_valid, y_valid\n",
    "\n",
    "    elif purpose == 'test':\n",
    "        \n",
    "        pc_test_x_h5 = os.path.join(data_dir, 'camelyonpatch_level_2_split_test_x' + norm + '.h5.gz') \n",
    "        pc_test_y_h5 = os.path.join(data_dir, 'camelyonpatch_level_2_split_test_y' + norm + '.h5.gz') \n",
    "        \n",
    "        if not norm:\n",
    "            pc_test_x_h5 = gzip.open(pc_test_x_h5, 'rb')\n",
    "            pc_test_y_h5 = gzip.open(pc_test_y_h5, 'rb')\n",
    "\n",
    "        x_test = HDF5Matrix(pc_test_x_h5, 'x')\n",
    "        y_test = HDF5Matrix(pc_test_y_h5, 'y')\n",
    "\n",
    "        if limit and limit<len(x_test):\n",
    "            x_test = x_test[:limit]\n",
    "            y_test = y_test[:limit]\n",
    "        \n",
    "        return x_test, y_test\n",
    "    \n",
    "    else:\n",
    "         print('Please define the purpose. options: \"train\", \"test\"' )"
   ]
  },
  {
   "cell_type": "markdown",
   "metadata": {},
   "source": [
    "### Data birlestirme"
   ]
  },
  {
   "cell_type": "code",
   "execution_count": 5,
   "metadata": {},
   "outputs": [],
   "source": [
    "import os\n",
    "import h5py"
   ]
  },
  {
   "cell_type": "code",
   "execution_count": 6,
   "metadata": {},
   "outputs": [],
   "source": [
    "data_dir = './data/macenko/'"
   ]
  },
  {
   "cell_type": "code",
   "execution_count": 7,
   "metadata": {},
   "outputs": [],
   "source": [
    "sorted_file_list = sorted([{'file_name': os.path.join(data_dir, fn),\n",
    "                             'order': int(fn.split('_')[7])}\n",
    "                            for fn in os.listdir(data_dir) \n",
    "                            if ('camelyonpatch_level_2_split_train_x_macenko' in fn\n",
    "                                and 'ALL' not in fn)],\n",
    "                          key = lambda i: i['order'])"
   ]
  },
  {
   "cell_type": "code",
   "execution_count": 8,
   "metadata": {},
   "outputs": [
    {
     "data": {
      "text/plain": [
       "(['./data/macenko/camelyonpatch_level_2_split_train_x_macenko_0_10000.h5.gz',\n",
       "  './data/macenko/camelyonpatch_level_2_split_train_x_macenko_10000_20000.h5.gz',\n",
       "  './data/macenko/camelyonpatch_level_2_split_train_x_macenko_20000_30000.h5.gz',\n",
       "  './data/macenko/camelyonpatch_level_2_split_train_x_macenko_30000_40000.h5.gz',\n",
       "  './data/macenko/camelyonpatch_level_2_split_train_x_macenko_40000_50000.h5.gz',\n",
       "  './data/macenko/camelyonpatch_level_2_split_train_x_macenko_50000_60000.h5.gz',\n",
       "  './data/macenko/camelyonpatch_level_2_split_train_x_macenko_60000_70000.h5.gz',\n",
       "  './data/macenko/camelyonpatch_level_2_split_train_x_macenko_70000_80000.h5.gz',\n",
       "  './data/macenko/camelyonpatch_level_2_split_train_x_macenko_80000_90000.h5.gz',\n",
       "  './data/macenko/camelyonpatch_level_2_split_train_x_macenko_90000_100000.h5.gz',\n",
       "  './data/macenko/camelyonpatch_level_2_split_train_x_macenko_100000_110000.h5.gz',\n",
       "  './data/macenko/camelyonpatch_level_2_split_train_x_macenko_110000_120000.h5.gz',\n",
       "  './data/macenko/camelyonpatch_level_2_split_train_x_macenko_120000_130000.h5.gz',\n",
       "  './data/macenko/camelyonpatch_level_2_split_train_x_macenko_130000_140000.h5.gz',\n",
       "  './data/macenko/camelyonpatch_level_2_split_train_x_macenko_140000_150000.h5.gz',\n",
       "  './data/macenko/camelyonpatch_level_2_split_train_x_macenko_150000_160000.h5.gz',\n",
       "  './data/macenko/camelyonpatch_level_2_split_train_x_macenko_160000_170000.h5.gz',\n",
       "  './data/macenko/camelyonpatch_level_2_split_train_x_macenko_170000_180000.h5.gz',\n",
       "  './data/macenko/camelyonpatch_level_2_split_train_x_macenko_180000_190000.h5.gz',\n",
       "  './data/macenko/camelyonpatch_level_2_split_train_x_macenko_190000_200000.h5.gz',\n",
       "  './data/macenko/camelyonpatch_level_2_split_train_x_macenko_200000_210000.h5.gz',\n",
       "  './data/macenko/camelyonpatch_level_2_split_train_x_macenko_210000_220000.h5.gz',\n",
       "  './data/macenko/camelyonpatch_level_2_split_train_x_macenko_220000_230000.h5.gz',\n",
       "  './data/macenko/camelyonpatch_level_2_split_train_x_macenko_230000_240000.h5.gz',\n",
       "  './data/macenko/camelyonpatch_level_2_split_train_x_macenko_240000_250000.h5.gz',\n",
       "  './data/macenko/camelyonpatch_level_2_split_train_x_macenko_250000_260000.h5.gz',\n",
       "  './data/macenko/camelyonpatch_level_2_split_train_x_macenko_260000_262143.h5.gz'],\n",
       " 27)"
      ]
     },
     "execution_count": 8,
     "metadata": {},
     "output_type": "execute_result"
    }
   ],
   "source": [
    "[f['file_name'] for f in sorted_file_list], len([f['file_name'] for f in sorted_file_list])"
   ]
  },
  {
   "cell_type": "code",
   "execution_count": null,
   "metadata": {},
   "outputs": [
    {
     "name": "stdout",
     "output_type": "stream",
     "text": [
      "0_10000 (9990, 96, 96, 3) 9990 96\n",
      "Creating dataset\n"
     ]
    }
   ],
   "source": [
    "#keep track of the total number of rows\n",
    "total_rows = 0\n",
    "\n",
    "output_file = h5py.File(os.path.join(data_dir, 'camelyonpatch_level_2_split_train_x_macenko_ALL.h5'), 'w')\n",
    "\n",
    "for n, finfo in enumerate(sorted_file_list):\n",
    "    \n",
    "    file_name = finfo['file_name']\n",
    "\n",
    "    your_data = HDF5Matrix(file_name, 'x')\n",
    "    total_rows = total_rows + your_data.shape[0]\n",
    "    total_columns = your_data.shape[1]\n",
    "    \n",
    "    print(file_name.split('/')[-1][44:-6], your_data.shape, total_rows, total_columns)\n",
    "\n",
    "    if n == 0:\n",
    "        print('Creating dataset')\n",
    "        #first file; create the dummy dataset with no max shape\n",
    "        create_dataset = output_file.create_dataset(\"x\", (total_rows, total_columns), maxshape=(None, None))\n",
    "        #fill the first section of the dataset\n",
    "        create_dataset[:,:] = your_data\n",
    "        where_to_start_appending = total_rows\n",
    "\n",
    "    elif n == 2:\n",
    "        break\n",
    "        \n",
    "    else:\n",
    "#         resize the dataset to accomodate the new data\n",
    "        create_dataset.resize(total_rows, axis=0)\n",
    "        create_dataset[where_to_start_appending:total_rows, :] = your_data\n",
    "        where_to_start_appending = total_rows\n",
    "\n",
    "output_file.close()"
   ]
  },
  {
   "cell_type": "markdown",
   "metadata": {},
   "source": [
    "# ----- BURAYA KADAR CALISTIR SADECE -----"
   ]
  },
  {
   "cell_type": "code",
   "execution_count": 10,
   "metadata": {},
   "outputs": [],
   "source": [
    "data_dir = './data/'"
   ]
  },
  {
   "cell_type": "code",
   "execution_count": 14,
   "metadata": {},
   "outputs": [],
   "source": [
    "pc_train_x_0_20000_h5 = os.path.join(data_dir, 'macenko/camelyonpatch_level_2_split_train_x_macenko_ALL.h5') "
   ]
  },
  {
   "cell_type": "code",
   "execution_count": 15,
   "metadata": {},
   "outputs": [],
   "source": [
    "x_train = HDF5Matrix(pc_train_x_0_20000_h5, 'x')"
   ]
  },
  {
   "cell_type": "code",
   "execution_count": 9,
   "metadata": {},
   "outputs": [],
   "source": [
    "x_train_2 =HDF5Matrix(pc_train_x_10000_20000_h5, 'x')"
   ]
  },
  {
   "cell_type": "code",
   "execution_count": 16,
   "metadata": {},
   "outputs": [
    {
     "data": {
      "text/plain": [
       "((9990, 96), keras.utils.io_utils.HDF5Matrix)"
      ]
     },
     "execution_count": 16,
     "metadata": {},
     "output_type": "execute_result"
    }
   ],
   "source": [
    "x_train.shape, type(x_train)"
   ]
  },
  {
   "cell_type": "code",
   "execution_count": 13,
   "metadata": {},
   "outputs": [
    {
     "data": {
      "text/plain": [
       "((9982, 96, 96, 3), keras.utils.io_utils.HDF5Matrix)"
      ]
     },
     "execution_count": 13,
     "metadata": {},
     "output_type": "execute_result"
    }
   ],
   "source": [
    "x_train_2.shape, type(x_train_2)"
   ]
  },
  {
   "cell_type": "code",
   "execution_count": null,
   "metadata": {},
   "outputs": [],
   "source": [
    "total = "
   ]
  },
  {
   "cell_type": "code",
   "execution_count": 19,
   "metadata": {},
   "outputs": [],
   "source": [
    "x_train_all = np.array([])"
   ]
  },
  {
   "cell_type": "code",
   "execution_count": 17,
   "metadata": {},
   "outputs": [
    {
     "ename": "AttributeError",
     "evalue": "'list' object has no attribute 'shape'",
     "output_type": "error",
     "traceback": [
      "\u001b[0;31m---------------------------------------------------------------------------\u001b[0m",
      "\u001b[0;31mAttributeError\u001b[0m                            Traceback (most recent call last)",
      "\u001b[0;32m<ipython-input-17-654e9195bf6d>\u001b[0m in \u001b[0;36m<module>\u001b[0;34m\u001b[0m\n\u001b[0;32m----> 1\u001b[0;31m \u001b[0mx_train_all\u001b[0m\u001b[0;34m.\u001b[0m\u001b[0mshape\u001b[0m\u001b[0;34m(\u001b[0m\u001b[0;34m)\u001b[0m\u001b[0;34m\u001b[0m\u001b[0m\n\u001b[0m",
      "\u001b[0;31mAttributeError\u001b[0m: 'list' object has no attribute 'shape'"
     ]
    }
   ],
   "source": [
    "x_train_all."
   ]
  },
  {
   "cell_type": "code",
   "execution_count": 14,
   "metadata": {},
   "outputs": [],
   "source": [
    "def show(image, now=True, fig_size=(10, 10)):\n",
    "    \"\"\"\n",
    "    Show an image (np.array).\n",
    "    Caution! Rescales image to be in range [0,1].\n",
    "    :param image:\n",
    "    :param now:\n",
    "    :param fig_size:\n",
    "    :return:\n",
    "    \"\"\"\n",
    "    image = image.astype(np.float32)\n",
    "    m, M = image.min(), image.max()\n",
    "    if fig_size != None:\n",
    "        plt.rcParams['figure.figsize'] = (fig_size[0], fig_size[1])\n",
    "    plt.imshow((image - m) / (M - m), cmap='gray')\n",
    "    plt.axis('off')\n",
    "    if now == True:\n",
    "        plt.show()"
   ]
  },
  {
   "cell_type": "code",
   "execution_count": null,
   "metadata": {},
   "outputs": [],
   "source": []
  },
  {
   "cell_type": "code",
   "execution_count": 24,
   "metadata": {},
   "outputs": [
    {
     "data": {
      "text/plain": [
       "(9990, 96, 96, 3)"
      ]
     },
     "execution_count": 24,
     "metadata": {},
     "output_type": "execute_result"
    }
   ],
   "source": [
    "x_train.shape"
   ]
  },
  {
   "cell_type": "code",
   "execution_count": 21,
   "metadata": {},
   "outputs": [
    {
     "data": {
      "image/png": "[encoded data removed]",
      "text/plain": [
       "<Figure size 720x720 with 1 Axes>"
      ]
     },
     "metadata": {
      "needs_background": "light"
     },
     "output_type": "display_data"
    }
   ],
   "source": [
    "show(x_train[5],now=False)"
   ]
  },
  {
   "cell_type": "code",
   "execution_count": 3,
   "metadata": {},
   "outputs": [],
   "source": [
    "from utils.preprocess import DataGenerator\n",
    "from utils.callbacks import PlotCurves\n",
    "# from utils.load_data import load_data\n",
    "from utils.comparams import auc"
   ]
  },
  {
   "cell_type": "markdown",
   "metadata": {},
   "source": [
    "### Data Generator"
   ]
  },
  {
   "cell_type": "code",
   "execution_count": 4,
   "metadata": {},
   "outputs": [],
   "source": [
    "data_dir = './data/'"
   ]
  },
  {
   "cell_type": "code",
   "execution_count": 7,
   "metadata": {},
   "outputs": [
    {
     "data": {
      "text/plain": [
       "(10000, 10000)"
      ]
     },
     "execution_count": 7,
     "metadata": {},
     "output_type": "execute_result"
    }
   ],
   "source": [
    "x_train, y_train, x_valid, y_valid = load_data(data_dir, purpose='train', limit=10000, val_limit=None)\n",
    "len(x_train), len(x_valid)"
   ]
  },
  {
   "cell_type": "code",
   "execution_count": 9,
   "metadata": {},
   "outputs": [],
   "source": [
    "# indexes\n",
    "train_id = np.arange(len(x_train))\n",
    "val_id = np.arange(len(x_valid))\n",
    "\n",
    "# create a useful dictionary structures\n",
    "partition = {}\n",
    "partition['train'] = train_id\n",
    "partition['validation'] = val_id\n",
    "    \n",
    "train_labels = {str(i) : y_train[i].flatten()[0] for i in train_id}\n",
    "val_labels = {str(i) : y_valid[i].flatten()[0] for i in val_id}"
   ]
  },
  {
   "cell_type": "markdown",
   "metadata": {},
   "source": [
    "## MODEL"
   ]
  },
  {
   "cell_type": "code",
   "execution_count": 17,
   "metadata": {
    "collapsed": true
   },
   "outputs": [
    {
     "name": "stderr",
     "output_type": "stream",
     "text": [
      "WARNING: Logging before flag parsing goes to stderr.\n",
      "W0504 23:16:00.665940 140079911899264 deprecation_wrapper.py:119] From /home/aorus/workspaces/simge/PatchCamelyon/.env/lib/python3.6/site-packages/keras/backend/tensorflow_backend.py:74: The name tf.get_default_graph is deprecated. Please use tf.compat.v1.get_default_graph instead.\n",
      "\n",
      "W0504 23:16:00.674571 140079911899264 deprecation_wrapper.py:119] From /home/aorus/workspaces/simge/PatchCamelyon/.env/lib/python3.6/site-packages/keras/backend/tensorflow_backend.py:517: The name tf.placeholder is deprecated. Please use tf.compat.v1.placeholder instead.\n",
      "\n",
      "W0504 23:16:00.675964 140079911899264 deprecation_wrapper.py:119] From /home/aorus/workspaces/simge/PatchCamelyon/.env/lib/python3.6/site-packages/keras/backend/tensorflow_backend.py:4138: The name tf.random_uniform is deprecated. Please use tf.random.uniform instead.\n",
      "\n",
      "W0504 23:16:00.690954 140079911899264 deprecation_wrapper.py:119] From /home/aorus/workspaces/simge/PatchCamelyon/.env/lib/python3.6/site-packages/keras/backend/tensorflow_backend.py:3976: The name tf.nn.max_pool is deprecated. Please use tf.nn.max_pool2d instead.\n",
      "\n",
      "W0504 23:16:00.877677 140079911899264 deprecation_wrapper.py:119] From /home/aorus/workspaces/simge/PatchCamelyon/.env/lib/python3.6/site-packages/keras/backend/tensorflow_backend.py:174: The name tf.get_default_session is deprecated. Please use tf.compat.v1.get_default_session instead.\n",
      "\n",
      "W0504 23:16:00.878127 140079911899264 deprecation_wrapper.py:119] From /home/aorus/workspaces/simge/PatchCamelyon/.env/lib/python3.6/site-packages/keras/backend/tensorflow_backend.py:181: The name tf.ConfigProto is deprecated. Please use tf.compat.v1.ConfigProto instead.\n",
      "\n"
     ]
    }
   ],
   "source": [
    "vgg16 = VGG16(weights='imagenet', include_top=False, input_shape=(224,224,3))"
   ]
  },
  {
   "cell_type": "code",
   "execution_count": 18,
   "metadata": {},
   "outputs": [],
   "source": [
    "x = vgg16.output\n",
    "x = GlobalAveragePooling2D()(x)\n",
    "x = Dense(256, activation='relu')(x)\n",
    "#x = Dropout(0.5)(x)\n",
    "y = Dense(2, activation='softmax')(x) # sigmoid instead of softmax to have independent probabilities\n",
    "\n",
    "model = Model(inputs=vgg16.input, outputs=y)\n",
    "\n",
    "# Train only the top layer\n",
    "for layer in vgg16.layers:\n",
    "    layer.trainable = False"
   ]
  },
  {
   "cell_type": "code",
   "execution_count": 19,
   "metadata": {
    "collapsed": true
   },
   "outputs": [
    {
     "name": "stdout",
     "output_type": "stream",
     "text": [
      "_________________________________________________________________\n",
      "Layer (type)                 Output Shape              Param #   \n",
      "=================================================================\n",
      "input_1 (InputLayer)         (None, 224, 224, 3)       0         \n",
      "_________________________________________________________________\n",
      "block1_conv1 (Conv2D)        (None, 224, 224, 64)      1792      \n",
      "_________________________________________________________________\n",
      "block1_conv2 (Conv2D)        (None, 224, 224, 64)      36928     \n",
      "_________________________________________________________________\n",
      "block1_pool (MaxPooling2D)   (None, 112, 112, 64)      0         \n",
      "_________________________________________________________________\n",
      "block2_conv1 (Conv2D)        (None, 112, 112, 128)     73856     \n",
      "_________________________________________________________________\n",
      "block2_conv2 (Conv2D)        (None, 112, 112, 128)     147584    \n",
      "_________________________________________________________________\n",
      "block2_pool (MaxPooling2D)   (None, 56, 56, 128)       0         \n",
      "_________________________________________________________________\n",
      "block3_conv1 (Conv2D)        (None, 56, 56, 256)       295168    \n",
      "_________________________________________________________________\n",
      "block3_conv2 (Conv2D)        (None, 56, 56, 256)       590080    \n",
      "_________________________________________________________________\n",
      "block3_conv3 (Conv2D)        (None, 56, 56, 256)       590080    \n",
      "_________________________________________________________________\n",
      "block3_pool (MaxPooling2D)   (None, 28, 28, 256)       0         \n",
      "_________________________________________________________________\n",
      "block4_conv1 (Conv2D)        (None, 28, 28, 512)       1180160   \n",
      "_________________________________________________________________\n",
      "block4_conv2 (Conv2D)        (None, 28, 28, 512)       2359808   \n",
      "_________________________________________________________________\n",
      "block4_conv3 (Conv2D)        (None, 28, 28, 512)       2359808   \n",
      "_________________________________________________________________\n",
      "block4_pool (MaxPooling2D)   (None, 14, 14, 512)       0         \n",
      "_________________________________________________________________\n",
      "block5_conv1 (Conv2D)        (None, 14, 14, 512)       2359808   \n",
      "_________________________________________________________________\n",
      "block5_conv2 (Conv2D)        (None, 14, 14, 512)       2359808   \n",
      "_________________________________________________________________\n",
      "block5_conv3 (Conv2D)        (None, 14, 14, 512)       2359808   \n",
      "_________________________________________________________________\n",
      "block5_pool (MaxPooling2D)   (None, 7, 7, 512)         0         \n",
      "_________________________________________________________________\n",
      "global_average_pooling2d_1 ( (None, 512)               0         \n",
      "_________________________________________________________________\n",
      "dense_1 (Dense)              (None, 256)               131328    \n",
      "_________________________________________________________________\n",
      "dense_2 (Dense)              (None, 2)                 514       \n",
      "=================================================================\n",
      "Total params: 14,846,530\n",
      "Trainable params: 131,842\n",
      "Non-trainable params: 14,714,688\n",
      "_________________________________________________________________\n"
     ]
    }
   ],
   "source": [
    "model.summary()"
   ]
  },
  {
   "cell_type": "markdown",
   "metadata": {},
   "source": [
    "### Compile"
   ]
  },
  {
   "cell_type": "code",
   "execution_count": 19,
   "metadata": {},
   "outputs": [],
   "source": [
    "learning_rate_reduction = ReduceLROnPlateau(monitor='val_acc', \n",
    "                                            patience=3,\n",
    "                                            verbose=1, \n",
    "                                            factor=0.5, \n",
    "                                            min_lr=0.0001)"
   ]
  },
  {
   "cell_type": "code",
   "execution_count": 20,
   "metadata": {},
   "outputs": [],
   "source": [
    "optimizer = Adam(lr=0.01, beta_1=0.9, beta_2=0.999)\n",
    "loss = 'categorical_crossentropy'\n",
    "metrics = ['acc', auc]"
   ]
  },
  {
   "cell_type": "code",
   "execution_count": 21,
   "metadata": {},
   "outputs": [
    {
     "name": "stderr",
     "output_type": "stream",
     "text": [
      "W0505 16:32:38.429368 140208666730624 deprecation_wrapper.py:119] From /home/aorus/workspaces/simge/PatchCamelyon/utils/comparams.py:5: The name tf.metrics.auc is deprecated. Please use tf.compat.v1.metrics.auc instead.\n",
      "\n"
     ]
    }
   ],
   "source": [
    "model.compile(optimizer, loss, metrics)"
   ]
  },
  {
   "cell_type": "markdown",
   "metadata": {},
   "source": [
    "## Train the model"
   ]
  },
  {
   "cell_type": "code",
   "execution_count": 1,
   "metadata": {},
   "outputs": [
    {
     "ename": "NameError",
     "evalue": "name 'os' is not defined",
     "output_type": "error",
     "traceback": [
      "\u001b[0;31m---------------------------------------------------------------------------\u001b[0m",
      "\u001b[0;31mNameError\u001b[0m                                 Traceback (most recent call last)",
      "\u001b[0;32m<ipython-input-1-ef39781e6108>\u001b[0m in \u001b[0;36m<module>\u001b[0;34m\u001b[0m\n\u001b[1;32m      1\u001b[0m \u001b[0;31m# directory to save the best model\u001b[0m\u001b[0;34m\u001b[0m\u001b[0;34m\u001b[0m\u001b[0m\n\u001b[1;32m      2\u001b[0m \u001b[0mfile_dir\u001b[0m \u001b[0;34m=\u001b[0m \u001b[0;34m'./Model'\u001b[0m\u001b[0;34m\u001b[0m\u001b[0m\n\u001b[0;32m----> 3\u001b[0;31m \u001b[0;32mif\u001b[0m \u001b[0;32mnot\u001b[0m \u001b[0mos\u001b[0m\u001b[0;34m.\u001b[0m\u001b[0mpath\u001b[0m\u001b[0;34m.\u001b[0m\u001b[0mexists\u001b[0m\u001b[0;34m(\u001b[0m\u001b[0mfile_dir\u001b[0m\u001b[0;34m)\u001b[0m\u001b[0;34m:\u001b[0m\u001b[0;34m\u001b[0m\u001b[0m\n\u001b[0m\u001b[1;32m      4\u001b[0m     \u001b[0mos\u001b[0m\u001b[0;34m.\u001b[0m\u001b[0mmkdir\u001b[0m\u001b[0;34m(\u001b[0m\u001b[0mfile_dir\u001b[0m\u001b[0;34m)\u001b[0m\u001b[0;34m\u001b[0m\u001b[0m\n\u001b[1;32m      5\u001b[0m \u001b[0;34m\u001b[0m\u001b[0m\n",
      "\u001b[0;31mNameError\u001b[0m: name 'os' is not defined"
     ]
    }
   ],
   "source": [
    "# directory to save the best model\n",
    "file_dir = './Model'\n",
    "if not os.path.exists(file_dir):\n",
    "    os.mkdir(file_dir)\n",
    "    \n",
    "model_name = 'vgg16_model_50K'\n",
    "    \n",
    "network_filepath = os.path.join(file_dir, model_name + '.h5')"
   ]
  },
  {
   "cell_type": "code",
   "execution_count": 23,
   "metadata": {},
   "outputs": [],
   "source": [
    "# Define batch size.\n",
    "batch_size = 128\n",
    "n_epoch = 10\n",
    "# time_limit = 500 # time limit in minute (500 -> 8 hrs and 20 min)\n",
    "\n",
    "# Parameters for generators\n",
    "params = {\n",
    "    'dim': (224, 224),\n",
    "    'batch_size': batch_size,\n",
    "    'n_classes': 2,\n",
    "    'shuffle': True\n",
    "}\n",
    "\n",
    "# Generators\n",
    "training_generator = DataGenerator(partition['train'], x_train, train_labels, **params)\n",
    "validation_generator = DataGenerator(partition['validation'], x_valid, val_labels, **params)\n",
    "\n",
    "#a function to save last_model compatible with the on_interrupt handler of TimerCallback\n",
    "def saveWeights(model, elapsed):\n",
    "    model.save_weights(os.path.join(file_dir, model_name + '_weights.h5'))\n",
    "\n",
    "\n",
    "# Callbacks,\n",
    "callbacks = [PlotCurves(), learning_rate_reduction]#, TimerCallback(1, on_interrupt=saveWeights)]\n",
    "#roc_callback(training_data=training_generator,validation_data=validation_generator)"
   ]
  },
  {
   "cell_type": "code",
   "execution_count": null,
   "metadata": {},
   "outputs": [
    {
     "name": "stdout",
     "output_type": "stream",
     "text": [
      "Epoch 1/10\n",
      "389/390 [============================>.] - ETA: 0s - loss: 0.3653 - acc: 0.8400"
     ]
    }
   ],
   "source": [
    "# Training with ...\n",
    "model.fit_generator(training_generator, validation_data=validation_generator, \n",
    "                    epochs=n_epoch, callbacks=callbacks)"
   ]
  },
  {
   "cell_type": "code",
   "execution_count": null,
   "metadata": {},
   "outputs": [],
   "source": [
    "model.save(network_filepath)"
   ]
  },
  {
   "cell_type": "markdown",
   "metadata": {},
   "source": [
    "### Runs"
   ]
  },
  {
   "cell_type": "code",
   "execution_count": 23,
   "metadata": {
    "scrolled": false
   },
   "outputs": [
    {
     "data": {
      "image/png": "[encoded data removed]",
      "text/plain": [
       "<Figure size 720x360 with 1 Axes>"
      ]
     },
     "metadata": {
      "needs_background": "light"
     },
     "output_type": "display_data"
    },
    {
     "data": {
      "text/plain": [
       "<keras.callbacks.History at 0x7f0953afb278>"
      ]
     },
     "execution_count": 23,
     "metadata": {},
     "output_type": "execute_result"
    }
   ],
   "source": [
    "# Training with 10k\n",
    "model.fit_generator(training_generator, validation_data=validation_generator, \n",
    "                    epochs=n_epoch, callbacks=callbacks)"
   ]
  }
 ],
 "metadata": {
  "kernelspec": {
   "display_name": "Python 3",
   "language": "python",
   "name": "python3"
  },
  "language_info": {
   "codemirror_mode": {
    "name": "ipython",
    "version": 3
   },
   "file_extension": ".py",
   "mimetype": "text/x-python",
   "name": "python",
   "nbconvert_exporter": "python",
   "pygments_lexer": "ipython3",
   "version": "3.5.2"
  }
 },
 "nbformat": 4,
 "nbformat_minor": 2
}
